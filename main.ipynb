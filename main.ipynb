{
 "cells": [
  {
   "cell_type": "code",
   "execution_count": 1,
   "id": "119b4892",
   "metadata": {},
   "outputs": [
    {
     "name": "stdout",
     "output_type": "stream",
     "text": [
      "Collecting pylsd\n",
      "  Downloading pylsd-0.0.2.tar.gz (44 kB)\n",
      "\u001b[K     |████████████████████████████████| 44 kB 519 kB/s eta 0:00:011\n",
      "\u001b[?25hBuilding wheels for collected packages: pylsd\n",
      "  Building wheel for pylsd (setup.py) ... \u001b[?25ldone\n",
      "\u001b[?25h  Created wheel for pylsd: filename=pylsd-0.0.2-py3-none-any.whl size=46364 sha256=4ff2fff4abb340b93849fc394cd6026cba0935b860355ec85be6a4ddae8ca318\n",
      "  Stored in directory: /Users/nakamurasatoru/Library/Caches/pip/wheels/9b/63/9d/790450d057de8c5fc9ed261526ce13048db7e365ef5f53ca0e\n",
      "Successfully built pylsd\n",
      "Installing collected packages: pylsd\n",
      "Successfully installed pylsd-0.0.2\n",
      "Collecting ocrd-fork-pylsd==0.0.3\n",
      "  Downloading ocrd_fork_pylsd-0.0.3-py3-none-any.whl (47 kB)\n",
      "\u001b[K     |████████████████████████████████| 47 kB 514 kB/s eta 0:00:011\n",
      "\u001b[?25hInstalling collected packages: ocrd-fork-pylsd\n",
      "Successfully installed ocrd-fork-pylsd-0.0.3\n"
     ]
    }
   ],
   "source": [
    "!pip install pylsd\n",
    "!pip install 'ocrd-fork-pylsd == 0.0.3'"
   ]
  },
  {
   "cell_type": "code",
   "execution_count": 9,
   "id": "5e9ef09a",
   "metadata": {},
   "outputs": [
    {
     "name": "stdout",
     "output_type": "stream",
     "text": [
      "Requirement already satisfied: gdown in /Users/nakamurasatoru/opt/anaconda3/lib/python3.8/site-packages (4.2.0)\n",
      "Requirement already satisfied: beautifulsoup4 in /Users/nakamurasatoru/opt/anaconda3/lib/python3.8/site-packages (from gdown) (4.9.3)\n",
      "Requirement already satisfied: filelock in /Users/nakamurasatoru/opt/anaconda3/lib/python3.8/site-packages (from gdown) (3.0.12)\n",
      "Requirement already satisfied: requests[socks] in /Users/nakamurasatoru/opt/anaconda3/lib/python3.8/site-packages (from gdown) (2.26.0)\n",
      "Requirement already satisfied: six in /Users/nakamurasatoru/opt/anaconda3/lib/python3.8/site-packages (from gdown) (1.15.0)\n",
      "Requirement already satisfied: tqdm in /Users/nakamurasatoru/opt/anaconda3/lib/python3.8/site-packages (from gdown) (4.62.3)\n",
      "Requirement already satisfied: soupsieve>1.2 in /Users/nakamurasatoru/opt/anaconda3/lib/python3.8/site-packages (from beautifulsoup4->gdown) (2.2.1)\n",
      "Requirement already satisfied: idna<4,>=2.5 in /Users/nakamurasatoru/opt/anaconda3/lib/python3.8/site-packages (from requests[socks]->gdown) (3.2)\n",
      "Requirement already satisfied: certifi>=2017.4.17 in /Users/nakamurasatoru/opt/anaconda3/lib/python3.8/site-packages (from requests[socks]->gdown) (2021.5.30)\n",
      "Requirement already satisfied: urllib3<1.27,>=1.21.1 in /Users/nakamurasatoru/opt/anaconda3/lib/python3.8/site-packages (from requests[socks]->gdown) (1.26.6)\n",
      "Requirement already satisfied: charset-normalizer~=2.0.0 in /Users/nakamurasatoru/opt/anaconda3/lib/python3.8/site-packages (from requests[socks]->gdown) (2.0.3)\n",
      "Requirement already satisfied: PySocks!=1.5.7,>=1.5.6 in /Users/nakamurasatoru/opt/anaconda3/lib/python3.8/site-packages (from requests[socks]->gdown) (1.7.1)\n"
     ]
    }
   ],
   "source": [
    "!pip install gdown"
   ]
  },
  {
   "cell_type": "code",
   "execution_count": 12,
   "id": "363b1c6c",
   "metadata": {},
   "outputs": [
    {
     "name": "stdout",
     "output_type": "stream",
     "text": [
      "Downloading...\n",
      "From: https://drive.google.com/uc?id=1lu739RJi0wNQ5neWJ71zzaDVZqhvjoE5\n",
      "To: /Users/nakamurasatoru/git/d_nijl/ruler/best.pt\n",
      "100%|█████████████████████████████████████████| 173M/173M [10:28<00:00, 276kB/s]\n"
     ]
    }
   ],
   "source": [
    "!gdown \"https://drive.google.com/uc?id=1lu739RJi0wNQ5neWJ71zzaDVZqhvjoE5\""
   ]
  },
  {
   "cell_type": "code",
   "execution_count": 28,
   "id": "3446f4f5",
   "metadata": {},
   "outputs": [
    {
     "name": "stdout",
     "output_type": "stream",
     "text": [
      "入力画像サイズ: 1872 px x 1200 px\r\n"
     ]
    }
   ],
   "source": [
    "key = \"kyoto\"\n",
    "\n",
    "####\n",
    "\n",
    "collection = {\n",
    "    \"sat\": {\n",
    "        \"url\" : \"https://candra.dhii.jp/iipsrv/iipsrv.fcgi?IIIF=/kakouzou_pub/001_1/0001s.tif/full/full/0/default.jpg\"\n",
    "    },\n",
    "    \"nijl\": {\n",
    "        \"url\" : \"https://kotenseki.nijl.ac.jp/api/iiif/100302677/v4/KANS/KANS-00281/KANS-00281-00002.tif/full/full/0/default.jpg\"\n",
    "    },\n",
    "    \"kyoto\": {\n",
    "        \"iiif\" : \"https://rmda.kulib.kyoto-u.ac.jp/iiif/RB00020027/RB00020027_00001_0.ptif/16512,327,1872,1200/full/0/default.jpg\"\n",
    "    },\n",
    "    \"kyushu\": {\n",
    "        \"url\" : \"https://catalog.lib.kyushu-u.ac.jp/image/iiif/820/1467768/467234.tiff/full/full/0/default.jpg\"\n",
    "    }\n",
    "}\n",
    "\n",
    "#####\n",
    "\n",
    "item = collection[key]\n",
    "\n",
    "if \"iiif\" in item:\n",
    "  url = item[\"iiif\"]\n",
    "  type = \"iiif\"\n",
    "else:\n",
    "  url = item[\"url\"]\n",
    "  type = \"url\"\n",
    "    \n",
    "!python load.py $url $type"
   ]
  },
  {
   "cell_type": "code",
   "execution_count": 29,
   "id": "42197f5d",
   "metadata": {},
   "outputs": [
    {
     "name": "stdout",
     "output_type": "stream",
     "text": [
      "Using cache found in /Users/nakamurasatoru/.cache/torch/hub/ultralytics_yolov5_master\n",
      "YOLOv5 🚀 2021-11-17 torch 1.10.0 CPU\n",
      "\n",
      "Fusing layers... \n",
      "Model Summary: 444 layers, 86173414 parameters, 0 gradients, 204.0 GFLOPs\n",
      "Adding AutoShape... \n",
      "1mmあたりのピクセル数: 17 pixes\n",
      "検出した定規画像の実サイズ: 3 mm x 70 mm\n",
      "入力画像の実サイズ: 110 mm x 70 mm\n",
      "（追加）フル画像の実サイズ: 1120 mm x 1499 mm\n"
     ]
    }
   ],
   "source": [
    "!python main.py $url $type"
   ]
  }
 ],
 "metadata": {
  "kernelspec": {
   "display_name": "Python 3",
   "language": "python",
   "name": "python3"
  },
  "language_info": {
   "codemirror_mode": {
    "name": "ipython",
    "version": 3
   },
   "file_extension": ".py",
   "mimetype": "text/x-python",
   "name": "python",
   "nbconvert_exporter": "python",
   "pygments_lexer": "ipython3",
   "version": "3.8.8"
  }
 },
 "nbformat": 4,
 "nbformat_minor": 5
}
