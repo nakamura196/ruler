{
 "cells": [
  {
   "cell_type": "code",
   "execution_count": 1,
   "id": "75c5c6ae",
   "metadata": {},
   "outputs": [
    {
     "name": "stdout",
     "output_type": "stream",
     "text": [
      "Collecting pylsd\n",
      "  Downloading pylsd-0.0.2.tar.gz (44 kB)\n",
      "\u001b[K     |████████████████████████████████| 44 kB 519 kB/s eta 0:00:011\n",
      "\u001b[?25hBuilding wheels for collected packages: pylsd\n",
      "  Building wheel for pylsd (setup.py) ... \u001b[?25ldone\n",
      "\u001b[?25h  Created wheel for pylsd: filename=pylsd-0.0.2-py3-none-any.whl size=46364 sha256=4ff2fff4abb340b93849fc394cd6026cba0935b860355ec85be6a4ddae8ca318\n",
      "  Stored in directory: /Users/nakamurasatoru/Library/Caches/pip/wheels/9b/63/9d/790450d057de8c5fc9ed261526ce13048db7e365ef5f53ca0e\n",
      "Successfully built pylsd\n",
      "Installing collected packages: pylsd\n",
      "Successfully installed pylsd-0.0.2\n",
      "Collecting ocrd-fork-pylsd==0.0.3\n",
      "  Downloading ocrd_fork_pylsd-0.0.3-py3-none-any.whl (47 kB)\n",
      "\u001b[K     |████████████████████████████████| 47 kB 514 kB/s eta 0:00:011\n",
      "\u001b[?25hInstalling collected packages: ocrd-fork-pylsd\n",
      "Successfully installed ocrd-fork-pylsd-0.0.3\n"
     ]
    }
   ],
   "source": [
    "!pip install pylsd\n",
    "!pip install 'ocrd-fork-pylsd == 0.0.3'"
   ]
  },
  {
   "cell_type": "code",
   "execution_count": 9,
   "id": "98330c3e",
   "metadata": {},
   "outputs": [
    {
     "name": "stdout",
     "output_type": "stream",
     "text": [
      "Requirement already satisfied: gdown in /Users/nakamurasatoru/opt/anaconda3/lib/python3.8/site-packages (4.2.0)\n",
      "Requirement already satisfied: beautifulsoup4 in /Users/nakamurasatoru/opt/anaconda3/lib/python3.8/site-packages (from gdown) (4.9.3)\n",
      "Requirement already satisfied: filelock in /Users/nakamurasatoru/opt/anaconda3/lib/python3.8/site-packages (from gdown) (3.0.12)\n",
      "Requirement already satisfied: requests[socks] in /Users/nakamurasatoru/opt/anaconda3/lib/python3.8/site-packages (from gdown) (2.26.0)\n",
      "Requirement already satisfied: six in /Users/nakamurasatoru/opt/anaconda3/lib/python3.8/site-packages (from gdown) (1.15.0)\n",
      "Requirement already satisfied: tqdm in /Users/nakamurasatoru/opt/anaconda3/lib/python3.8/site-packages (from gdown) (4.62.3)\n",
      "Requirement already satisfied: soupsieve>1.2 in /Users/nakamurasatoru/opt/anaconda3/lib/python3.8/site-packages (from beautifulsoup4->gdown) (2.2.1)\n",
      "Requirement already satisfied: idna<4,>=2.5 in /Users/nakamurasatoru/opt/anaconda3/lib/python3.8/site-packages (from requests[socks]->gdown) (3.2)\n",
      "Requirement already satisfied: certifi>=2017.4.17 in /Users/nakamurasatoru/opt/anaconda3/lib/python3.8/site-packages (from requests[socks]->gdown) (2021.5.30)\n",
      "Requirement already satisfied: urllib3<1.27,>=1.21.1 in /Users/nakamurasatoru/opt/anaconda3/lib/python3.8/site-packages (from requests[socks]->gdown) (1.26.6)\n",
      "Requirement already satisfied: charset-normalizer~=2.0.0 in /Users/nakamurasatoru/opt/anaconda3/lib/python3.8/site-packages (from requests[socks]->gdown) (2.0.3)\n",
      "Requirement already satisfied: PySocks!=1.5.7,>=1.5.6 in /Users/nakamurasatoru/opt/anaconda3/lib/python3.8/site-packages (from requests[socks]->gdown) (1.7.1)\n"
     ]
    }
   ],
   "source": [
    "!pip install gdown"
   ]
  },
  {
   "cell_type": "code",
   "execution_count": 12,
   "id": "96c8d0ae",
   "metadata": {},
   "outputs": [
    {
     "name": "stdout",
     "output_type": "stream",
     "text": [
      "Downloading...\n",
      "From: https://drive.google.com/uc?id=1lu739RJi0wNQ5neWJ71zzaDVZqhvjoE5\n",
      "To: /Users/nakamurasatoru/git/d_nijl/ruler/best.pt\n",
      "100%|█████████████████████████████████████████| 173M/173M [10:28<00:00, 276kB/s]\n"
     ]
    }
   ],
   "source": [
    "!gdown \"https://drive.google.com/uc?id=1lu739RJi0wNQ5neWJ71zzaDVZqhvjoE5\""
   ]
  },
  {
   "cell_type": "code",
   "execution_count": 28,
   "id": "613ccd0b",
   "metadata": {},
   "outputs": [
    {
     "name": "stdout",
     "output_type": "stream",
     "text": [
      "入力画像サイズ: 1872 px x 1200 px\r\n"
     ]
    }
   ],
   "source": [
    "key = \"kyoto\"\n",
    "\n",
    "####\n",
    "\n",
    "collection = {\n",
    "    \"sat\": {\n",
    "        \"url\" : \"https://candra.dhii.jp/iipsrv/iipsrv.fcgi?IIIF=/kakouzou_pub/001_1/0001s.tif/full/full/0/default.jpg\"\n",
    "    },\n",
    "    \"nijl\": {\n",
    "        \"url\" : \"https://kotenseki.nijl.ac.jp/api/iiif/100302677/v4/KANS/KANS-00281/KANS-00281-00002.tif/full/full/0/default.jpg\"\n",
    "    },\n",
    "    \"kyoto\": {\n",
    "        \"iiif\" : \"https://rmda.kulib.kyoto-u.ac.jp/iiif/RB00020027/RB00020027_00001_0.ptif/16512,327,1872,1200/full/0/default.jpg\"\n",
    "    },\n",
    "    \"kyushu\": {\n",
    "        \"url\" : \"https://catalog.lib.kyushu-u.ac.jp/image/iiif/820/1467768/467234.tiff/full/full/0/default.jpg\"\n",
    "    }\n",
    "}\n",
    "\n",
    "#####\n",
    "\n",
    "item = collection[key]\n",
    "\n",
    "if \"iiif\" in item:\n",
    "  url = item[\"iiif\"]\n",
    "  type = \"iiif\"\n",
    "else:\n",
    "  url = item[\"url\"]\n",
    "  type = \"url\"\n",
    "    \n",
    "!python load.py $url $type"
   ]
  },
  {
   "cell_type": "code",
   "execution_count": 17,
   "id": "85929817",
   "metadata": {},
   "outputs": [
    {
     "data": {
      "image/jpeg": "[encoded data removed]"
     },
     "metadata": {},
     "output_type": "display_data"
    },
    {
     "ename": "NameError",
     "evalue": "name 'isHorizontal' is not defined",
     "output_type": "error",
     "traceback": [
      "\u001b[0;31m---------------------------------------------------------------------------\u001b[0m",
      "\u001b[0;31mNameError\u001b[0m                                 Traceback (most recent call last)",
      "\u001b[0;32m<ipython-input-17-fa5d23162e4b>\u001b[0m in \u001b[0;36m<module>\u001b[0;34m\u001b[0m\n\u001b[1;32m      5\u001b[0m   \u001b[0mprint\u001b[0m\u001b[0;34m(\u001b[0m\u001b[0;34m\"定規が検出されませんでした。\"\u001b[0m\u001b[0;34m)\u001b[0m\u001b[0;34m\u001b[0m\u001b[0;34m\u001b[0m\u001b[0m\n\u001b[1;32m      6\u001b[0m \u001b[0;32melse\u001b[0m\u001b[0;34m:\u001b[0m\u001b[0;34m\u001b[0m\u001b[0;34m\u001b[0m\u001b[0m\n\u001b[0;32m----> 7\u001b[0;31m   \u001b[0mhorizontal\u001b[0m \u001b[0;34m=\u001b[0m \u001b[0misHorizontal\u001b[0m\u001b[0;34m(\u001b[0m\u001b[0;34m)\u001b[0m\u001b[0;34m\u001b[0m\u001b[0;34m\u001b[0m\u001b[0m\n\u001b[0m\u001b[1;32m      8\u001b[0m   \u001b[0motsu\u001b[0m\u001b[0;34m(\u001b[0m\u001b[0;34m)\u001b[0m\u001b[0;34m\u001b[0m\u001b[0;34m\u001b[0m\u001b[0m\n\u001b[1;32m      9\u001b[0m \u001b[0;34m\u001b[0m\u001b[0m\n",
      "\u001b[0;31mNameError\u001b[0m: name 'isHorizontal' is not defined"
     ]
    }
   ],
   "source": [
    "!python main.py "
   ]
  },
  {
   "cell_type": "code",
   "execution_count": 16,
   "id": "885f3d00",
   "metadata": {},
   "outputs": [
    {
     "data": {
      "image/jpeg": "[encoded data removed]"
     },
     "metadata": {},
     "output_type": "display_data"
    }
   ],
   "source": [
    "def detect(show=True):\n",
    "\n",
    "  from PIL import Image\n",
    "  image_size = 1024\n",
    "  img = Image.open(filename)\n",
    "  w, h = img.size\n",
    "\n",
    "  # 長い辺\n",
    "  ll = max(w, h)\n",
    "\n",
    "  # 1024以下の場合がある\n",
    "  yolo_input_size = min(image_size, ll)\n",
    "\n",
    "  resized = img\n",
    "\n",
    "  r2 = 1\n",
    "\n",
    "  # 大きい場合には、小さくする\n",
    "  if ll > image_size:\n",
    "      r2 = image_size / ll\n",
    "      resized = resized.resize((int(w * r2), int(h * r2)))\n",
    "\n",
    "  results = model(resized, size=yolo_input_size)\n",
    "\n",
    "  data = results.pandas().xyxy[0].to_json(orient=\"records\")\n",
    "  data = json.loads(data)\n",
    "\n",
    "  # print(\"検出された物体の数\", len(data))\n",
    "\n",
    "  # ダウンロードした画像がmaxを超える場合がある\n",
    "  # r = max(c_width, c_height) / yolo_input_size\n",
    "  r = 1\n",
    "\n",
    "  score_max = 0\n",
    "\n",
    "  for i in range(len(data)):\n",
    "      obj = data[i]\n",
    "\n",
    "      score = obj[\"confidence\"]\n",
    "\n",
    "      if score_max > score:\n",
    "        continue\n",
    "\n",
    "      score_max = score\n",
    "\n",
    "      index = i + 1\n",
    "\n",
    "      x = int(obj[\"xmin\"] * r / r2)\n",
    "      y = int(obj[\"ymin\"] * r / r2)\n",
    "      w = int(obj[\"xmax\"] * r / r2) - x\n",
    "      h = int(obj[\"ymax\"] * r / r2) - y\n",
    "\n",
    "      xywh = \"{},{},{},{}\".format(x, y, w, h)\n",
    "\n",
    "      opath = \"ruler.jpg\"\n",
    "\n",
    "      im_crop = img.crop((x, y, x + w, y + h))\n",
    "      im_crop.save(opath, quality=95)\n",
    "\n",
    "      if show:\n",
    "        from IPython.display import Image,display_jpeg\n",
    "        display_jpeg(Image(opath))\n",
    "\n",
    "  return len(data)\n",
    "\n",
    "size = detect(True)"
   ]
  },
  {
   "cell_type": "code",
   "execution_count": 18,
   "id": "227e5a63",
   "metadata": {},
   "outputs": [
    {
     "name": "stdout",
     "output_type": "stream",
     "text": [
      "horizontal False\n"
     ]
    }
   ],
   "source": [
    "def isHorizontal():\n",
    "  opath = \"ruler.jpg\"\n",
    "  img = cv2.imread(opath)\n",
    "  w = img.shape[1]\n",
    "  h = img.shape[0]\n",
    "\n",
    "  horizontal = True\n",
    "  if h > w:\n",
    "    horizontal = False\n",
    "\n",
    "  return horizontal\n",
    "\n",
    "horizontal = isHorizontal()\n",
    "print(\"horizontal\", horizontal)"
   ]
  },
  {
   "cell_type": "code",
   "execution_count": 19,
   "id": "f7018570",
   "metadata": {},
   "outputs": [
    {
     "data": {
      "image/jpeg": "[encoded data removed]"
     },
     "metadata": {},
     "output_type": "display_data"
    }
   ],
   "source": [
    "def otsu(show=False):\n",
    "  opath = \"ruler.jpg\"\n",
    "  from IPython.display import Image,display_jpeg\n",
    "  img = cv2.imread(opath)\n",
    "  gray = cv2.cvtColor(img,cv2.COLOR_BGR2GRAY)\n",
    "\n",
    "  ret2, img_otsu = cv2.threshold(gray, 0, 255, cv2.THRESH_OTSU)\n",
    "\n",
    "  otsu_path = \"otsu.jpg\"\n",
    "  cv2.imwrite(otsu_path, img_otsu)\n",
    "\n",
    "  if show:\n",
    "    display_jpeg(Image(otsu_path))\n",
    "\n",
    "otsu(True)"
   ]
  },
  {
   "cell_type": "code",
   "execution_count": 26,
   "id": "0edee7ba",
   "metadata": {},
   "outputs": [
    {
     "name": "stdout",
     "output_type": "stream",
     "text": [
      "Collecting opencv-contrib-python\n",
      "  Downloading opencv_contrib_python-4.5.5.62-cp36-abi3-macosx_10_15_x86_64.whl (54.8 MB)\n",
      "\u001b[K     |████████████████████████████████| 54.8 MB 431 kB/s eta 0:00:01     |████████████████▌               | 28.2 MB 520 kB/s eta 0:00:52\n",
      "\u001b[?25hRequirement already satisfied: numpy>=1.14.5 in /Users/nakamurasatoru/opt/anaconda3/lib/python3.8/site-packages (from opencv-contrib-python) (1.20.2)\n",
      "Installing collected packages: opencv-contrib-python\n",
      "Successfully installed opencv-contrib-python-4.5.5.62\n"
     ]
    }
   ],
   "source": [
    "!pip install opencv-contrib-python"
   ]
  },
  {
   "cell_type": "code",
   "execution_count": 27,
   "id": "4f957621",
   "metadata": {},
   "outputs": [
    {
     "ename": "AttributeError",
     "evalue": "module 'cv2' has no attribute 'ximgproc'",
     "output_type": "error",
     "traceback": [
      "\u001b[0;31m---------------------------------------------------------------------------\u001b[0m",
      "\u001b[0;31mAttributeError\u001b[0m                            Traceback (most recent call last)",
      "\u001b[0;32m<ipython-input-27-353d8e08312e>\u001b[0m in \u001b[0;36m<module>\u001b[0;34m\u001b[0m\n\u001b[1;32m     21\u001b[0m     \u001b[0mdisplay_jpeg\u001b[0m\u001b[0;34m(\u001b[0m\u001b[0mImage\u001b[0m\u001b[0;34m(\u001b[0m\u001b[0mskeleton_path\u001b[0m\u001b[0;34m)\u001b[0m\u001b[0;34m)\u001b[0m\u001b[0;34m\u001b[0m\u001b[0;34m\u001b[0m\u001b[0m\n\u001b[1;32m     22\u001b[0m \u001b[0;34m\u001b[0m\u001b[0m\n\u001b[0;32m---> 23\u001b[0;31m \u001b[0mskelton\u001b[0m\u001b[0;34m(\u001b[0m\u001b[0;32mTrue\u001b[0m\u001b[0;34m)\u001b[0m\u001b[0;34m\u001b[0m\u001b[0;34m\u001b[0m\u001b[0m\n\u001b[0m",
      "\u001b[0;32m<ipython-input-27-353d8e08312e>\u001b[0m in \u001b[0;36mskelton\u001b[0;34m(show)\u001b[0m\n\u001b[1;32m     14\u001b[0m \u001b[0;34m\u001b[0m\u001b[0m\n\u001b[1;32m     15\u001b[0m   \u001b[0;31m# 細線化(スケルトン化) THINNING_ZHANGSUEN\u001b[0m\u001b[0;34m\u001b[0m\u001b[0;34m\u001b[0m\u001b[0;34m\u001b[0m\u001b[0m\n\u001b[0;32m---> 16\u001b[0;31m   \u001b[0mskeleton1\u001b[0m   \u001b[0;34m=\u001b[0m   \u001b[0mcv2\u001b[0m\u001b[0;34m.\u001b[0m\u001b[0mximgproc\u001b[0m\u001b[0;34m.\u001b[0m\u001b[0mthinning\u001b[0m\u001b[0;34m(\u001b[0m\u001b[0mimage\u001b[0m\u001b[0;34m,\u001b[0m \u001b[0mthinningType\u001b[0m\u001b[0;34m=\u001b[0m\u001b[0mcv2\u001b[0m\u001b[0;34m.\u001b[0m\u001b[0mximgproc\u001b[0m\u001b[0;34m.\u001b[0m\u001b[0mTHINNING_ZHANGSUEN\u001b[0m\u001b[0;34m)\u001b[0m\u001b[0;34m\u001b[0m\u001b[0;34m\u001b[0m\u001b[0m\n\u001b[0m\u001b[1;32m     17\u001b[0m   \u001b[0mskeleton_path\u001b[0m \u001b[0;34m=\u001b[0m \u001b[0;34m\"skeleton.jpg\"\u001b[0m\u001b[0;34m\u001b[0m\u001b[0;34m\u001b[0m\u001b[0m\n\u001b[1;32m     18\u001b[0m   \u001b[0mcv2\u001b[0m\u001b[0;34m.\u001b[0m\u001b[0mimwrite\u001b[0m\u001b[0;34m(\u001b[0m\u001b[0mskeleton_path\u001b[0m\u001b[0;34m,\u001b[0m \u001b[0mskeleton1\u001b[0m\u001b[0;34m)\u001b[0m\u001b[0;34m\u001b[0m\u001b[0;34m\u001b[0m\u001b[0m\n",
      "\u001b[0;31mAttributeError\u001b[0m: module 'cv2' has no attribute 'ximgproc'"
     ]
    }
   ],
   "source": [
    "def skelton(show=False):\n",
    "\n",
    "  otsu_path = \"otsu.jpg\"\n",
    "\n",
    "  from IPython.display import Image,display_jpeg\n",
    "\n",
    "  img = cv2.imread(otsu_path)\n",
    "\n",
    "  # グレー\n",
    "  gray = cv2.cvtColor(img,cv2.COLOR_BGR2GRAY)\n",
    "\n",
    "  # 二値画像反転\n",
    "  image = cv2.bitwise_not(gray)\n",
    "\n",
    "  # 細線化(スケルトン化) THINNING_ZHANGSUEN\n",
    "  skeleton1   =   cv2.ximgproc.thinning(image, thinningType=cv2.ximgproc.THINNING_ZHANGSUEN)\n",
    "  skeleton_path = \"skeleton.jpg\"\n",
    "  cv2.imwrite(skeleton_path, skeleton1)\n",
    "\n",
    "  if show:\n",
    "    display_jpeg(Image(skeleton_path))\n",
    "\n",
    "skelton(True)"
   ]
  },
  {
   "cell_type": "code",
   "execution_count": 21,
   "id": "228a0ebc",
   "metadata": {},
   "outputs": [
    {
     "ename": "NameError",
     "evalue": "name 'opath' is not defined",
     "output_type": "error",
     "traceback": [
      "\u001b[0;31m---------------------------------------------------------------------------\u001b[0m",
      "\u001b[0;31mNameError\u001b[0m                                 Traceback (most recent call last)",
      "\u001b[0;32m<ipython-input-21-59034301091d>\u001b[0m in \u001b[0;36m<module>\u001b[0;34m\u001b[0m\n\u001b[1;32m     44\u001b[0m   \u001b[0;32mreturn\u001b[0m \u001b[0mx\u001b[0m\u001b[0;34m,\u001b[0m \u001b[0my\u001b[0m\u001b[0;34m\u001b[0m\u001b[0;34m\u001b[0m\u001b[0m\n\u001b[1;32m     45\u001b[0m \u001b[0;34m\u001b[0m\u001b[0m\n\u001b[0;32m---> 46\u001b[0;31m \u001b[0mx\u001b[0m\u001b[0;34m,\u001b[0m \u001b[0my\u001b[0m \u001b[0;34m=\u001b[0m \u001b[0mhlsd\u001b[0m\u001b[0;34m(\u001b[0m\u001b[0mhorizontal\u001b[0m\u001b[0;34m,\u001b[0m \u001b[0;32mTrue\u001b[0m\u001b[0;34m)\u001b[0m\u001b[0;34m\u001b[0m\u001b[0;34m\u001b[0m\u001b[0m\n\u001b[0m",
      "\u001b[0;32m<ipython-input-21-59034301091d>\u001b[0m in \u001b[0;36mhlsd\u001b[0;34m(horizontal, show)\u001b[0m\n\u001b[1;32m      1\u001b[0m \u001b[0;32mdef\u001b[0m \u001b[0mhlsd\u001b[0m\u001b[0;34m(\u001b[0m\u001b[0mhorizontal\u001b[0m\u001b[0;34m,\u001b[0m \u001b[0mshow\u001b[0m\u001b[0;34m=\u001b[0m\u001b[0;32mFalse\u001b[0m\u001b[0;34m)\u001b[0m\u001b[0;34m:\u001b[0m\u001b[0;34m\u001b[0m\u001b[0;34m\u001b[0m\u001b[0m\n\u001b[1;32m      2\u001b[0m \u001b[0;34m\u001b[0m\u001b[0m\n\u001b[0;32m----> 3\u001b[0;31m   \u001b[0mimg\u001b[0m \u001b[0;34m=\u001b[0m \u001b[0mcv2\u001b[0m\u001b[0;34m.\u001b[0m\u001b[0mimread\u001b[0m\u001b[0;34m(\u001b[0m\u001b[0mopath\u001b[0m\u001b[0;34m)\u001b[0m\u001b[0;34m\u001b[0m\u001b[0;34m\u001b[0m\u001b[0m\n\u001b[0m\u001b[1;32m      4\u001b[0m   \u001b[0mgray\u001b[0m \u001b[0;34m=\u001b[0m \u001b[0mcv2\u001b[0m\u001b[0;34m.\u001b[0m\u001b[0mimread\u001b[0m\u001b[0;34m(\u001b[0m\u001b[0;34m'skeleton.jpg'\u001b[0m\u001b[0;34m,\u001b[0m \u001b[0;36m0\u001b[0m\u001b[0;34m)\u001b[0m\u001b[0;34m\u001b[0m\u001b[0;34m\u001b[0m\u001b[0m\n\u001b[1;32m      5\u001b[0m \u001b[0;34m\u001b[0m\u001b[0m\n",
      "\u001b[0;31mNameError\u001b[0m: name 'opath' is not defined"
     ]
    }
   ],
   "source": [
    "def hlsd(horizontal, show=False):\n",
    "\n",
    "  img = cv2.imread(opath)\n",
    "  gray = cv2.imread('skeleton.jpg', 0)\n",
    "\n",
    "  w = img.shape[1] if horizontal else img.shape[0]\n",
    "  h = img.shape[0] if horizontal else img.shape[1]\n",
    "\n",
    "  img4 = img.copy()\n",
    "\n",
    "  lines = lsd(gray)\n",
    "\n",
    "  x = []\n",
    "  y = []\n",
    "\n",
    "  for i in range(w):\n",
    "    x.append(i)\n",
    "    y.append(0)\n",
    "\n",
    "  for i in range(lines.shape[0]):\n",
    "    pt1 = (int(lines[i, 0]), int(lines[i, 1]))\n",
    "    pt2 = (int(lines[i, 2]), int(lines[i, 3]))\n",
    "\n",
    "    if horizontal:\n",
    "      dx = int((int(lines[i, 0]) +  int(lines[i, 2])) / 2)\n",
    "      dy = int(lines[i, 3]) - int(lines[i, 1])\n",
    "    else:\n",
    "      dx = int((int(lines[i, 1]) +  int(lines[i, 3])) / 2)\n",
    "      dy = int(lines[i, 2]) - int(lines[i, 0])\n",
    "\n",
    "    width = lines[i, 4]\n",
    "    cv2.line(img4, pt1, pt2, (0, 255, 0), int(np.ceil(width / 2)))\n",
    "\n",
    "    y[dx] = dy  \n",
    "\n",
    "  cv2.imwrite('img4.jpg',img4)\n",
    "  if show:\n",
    "    from IPython.display import Image,display_jpeg\n",
    "    display_jpeg(Image('img4.jpg'))\n",
    "\n",
    "  x = np.array(x)\n",
    "  y = np.array(y)\n",
    "\n",
    "  return x, y\n",
    "\n",
    "x, y = hlsd(horizontal, True)"
   ]
  },
  {
   "cell_type": "code",
   "execution_count": 22,
   "id": "b807e393",
   "metadata": {},
   "outputs": [
    {
     "ename": "NameError",
     "evalue": "name 'x' is not defined",
     "output_type": "error",
     "traceback": [
      "\u001b[0;31m---------------------------------------------------------------------------\u001b[0m",
      "\u001b[0;31mNameError\u001b[0m                                 Traceback (most recent call last)",
      "\u001b[0;32m<ipython-input-22-5f5b4c1c9e77>\u001b[0m in \u001b[0;36m<module>\u001b[0;34m\u001b[0m\n\u001b[1;32m     16\u001b[0m   \u001b[0;32mreturn\u001b[0m \u001b[0marg_r_max\u001b[0m\u001b[0;34m\u001b[0m\u001b[0;34m\u001b[0m\u001b[0m\n\u001b[1;32m     17\u001b[0m \u001b[0;34m\u001b[0m\u001b[0m\n\u001b[0;32m---> 18\u001b[0;31m \u001b[0marg_r_max\u001b[0m \u001b[0;34m=\u001b[0m \u001b[0marg_r\u001b[0m\u001b[0;34m(\u001b[0m\u001b[0mx\u001b[0m\u001b[0;34m,\u001b[0m \u001b[0my\u001b[0m\u001b[0;34m,\u001b[0m \u001b[0;32mTrue\u001b[0m\u001b[0;34m)\u001b[0m\u001b[0;34m\u001b[0m\u001b[0;34m\u001b[0m\u001b[0m\n\u001b[0m",
      "\u001b[0;31mNameError\u001b[0m: name 'x' is not defined"
     ]
    }
   ],
   "source": [
    "def arg_r(x, y, show=False):\n",
    "  \n",
    "  arg_r_min,arg_r_max=argrelmin(y),argrelmax(y)\n",
    "\n",
    "  if show:\n",
    "    fig, ax = plt.subplots(dpi=130)\n",
    "    ax.plot(x,y,\"C2-\")\n",
    "    ax.plot(x[arg_r_min[0]],y[arg_r_min[0]],\"ro\",label=\"argrelmin\")\n",
    "    ax.plot(x[arg_r_max[0]],y[arg_r_max[0]],\"mo\",label=\"argrelmax\")\n",
    "    plt.legend()\n",
    "    ax.set(xlabel=\"bins\",ylabel=\"Frequency\")\n",
    "    plt.tight_layout()\n",
    "    plt.savefig(\"arg_rel_minmax2.png\",dpi=130)\n",
    "    plt.show()\n",
    "\n",
    "  return arg_r_max\n",
    "\n",
    "arg_r_max = arg_r(x, y, True)"
   ]
  },
  {
   "cell_type": "code",
   "execution_count": 23,
   "id": "1f88d036",
   "metadata": {},
   "outputs": [
    {
     "ename": "NameError",
     "evalue": "name 'arg_r_max' is not defined",
     "output_type": "error",
     "traceback": [
      "\u001b[0;31m---------------------------------------------------------------------------\u001b[0m",
      "\u001b[0;31mNameError\u001b[0m                                 Traceback (most recent call last)",
      "\u001b[0;32m<ipython-input-23-b77095ec2c21>\u001b[0m in \u001b[0;36m<module>\u001b[0;34m\u001b[0m\n\u001b[1;32m     21\u001b[0m     \u001b[0mdisplay_jpeg\u001b[0m\u001b[0;34m(\u001b[0m\u001b[0mImage\u001b[0m\u001b[0;34m(\u001b[0m\u001b[0moutput_path\u001b[0m\u001b[0;34m)\u001b[0m\u001b[0;34m)\u001b[0m\u001b[0;34m\u001b[0m\u001b[0;34m\u001b[0m\u001b[0m\n\u001b[1;32m     22\u001b[0m \u001b[0;34m\u001b[0m\u001b[0m\n\u001b[0;32m---> 23\u001b[0;31m \u001b[0mcheck\u001b[0m\u001b[0;34m(\u001b[0m\u001b[0mhorizontal\u001b[0m\u001b[0;34m,\u001b[0m \u001b[0marg_r_max\u001b[0m\u001b[0;34m,\u001b[0m \u001b[0;32mTrue\u001b[0m\u001b[0;34m)\u001b[0m\u001b[0;34m\u001b[0m\u001b[0;34m\u001b[0m\u001b[0m\n\u001b[0m",
      "\u001b[0;31mNameError\u001b[0m: name 'arg_r_max' is not defined"
     ]
    }
   ],
   "source": [
    "def check(horizontal, arg_r_max, showFlag):\n",
    "  skeleton_path = \"skeleton.jpg\"\n",
    "  \n",
    "  blue = cv2.imread(skeleton_path)\n",
    "\n",
    "  if horizontal:\n",
    "    h, w, z = blue.shape \n",
    "  else:\n",
    "    w, h, z = blue.shape\n",
    "\n",
    "  for x1 in x[arg_r_max[0]]:\n",
    "    if horizontal:\n",
    "      blue = cv2.line(blue, (x1,int(h * 2/3)), (x1,h), (0,255,0), 1)\n",
    "    else:\n",
    "      blue = cv2.line(blue, (int(h * 2 / 3), x1), (h, x1), (0,255,0), 1)\n",
    "\n",
    "  output_path = \"blue.jpg\"\n",
    "  cv2.imwrite(output_path, blue)\n",
    "  if showFlag:\n",
    "    from IPython.display import Image,display_jpeg\n",
    "    display_jpeg(Image(output_path))\n",
    "\n",
    "check(horizontal, arg_r_max, True)"
   ]
  },
  {
   "cell_type": "code",
   "execution_count": 24,
   "id": "0dc9cde4",
   "metadata": {},
   "outputs": [
    {
     "ename": "NameError",
     "evalue": "name 'arg_r_max' is not defined",
     "output_type": "error",
     "traceback": [
      "\u001b[0;31m---------------------------------------------------------------------------\u001b[0m",
      "\u001b[0;31mNameError\u001b[0m                                 Traceback (most recent call last)",
      "\u001b[0;32m<ipython-input-24-d67341e85402>\u001b[0m in \u001b[0;36m<module>\u001b[0;34m\u001b[0m\n\u001b[1;32m     73\u001b[0m   }\n\u001b[1;32m     74\u001b[0m \u001b[0;34m\u001b[0m\u001b[0m\n\u001b[0;32m---> 75\u001b[0;31m \u001b[0mvalue\u001b[0m \u001b[0;34m=\u001b[0m \u001b[0moutput\u001b[0m\u001b[0;34m(\u001b[0m\u001b[0marg_r_max\u001b[0m\u001b[0;34m,\u001b[0m \u001b[0mhorizontal\u001b[0m\u001b[0;34m,\u001b[0m \u001b[0;32mTrue\u001b[0m\u001b[0;34m)\u001b[0m\u001b[0;34m\u001b[0m\u001b[0;34m\u001b[0m\u001b[0m\n\u001b[0m\u001b[1;32m     76\u001b[0m \u001b[0mprint\u001b[0m\u001b[0;34m(\u001b[0m\u001b[0mvalue\u001b[0m\u001b[0;34m)\u001b[0m\u001b[0;34m\u001b[0m\u001b[0;34m\u001b[0m\u001b[0m\n",
      "\u001b[0;31mNameError\u001b[0m: name 'arg_r_max' is not defined"
     ]
    }
   ],
   "source": [
    "def output(arg_r_max, horizontal, show=False):\n",
    "  opath = \"ruler.jpg\"\n",
    "  img = cv2.imread(opath)\n",
    "\n",
    "  if horizontal:\n",
    "    img_h, img_w, z = img.shape \n",
    "  else:\n",
    "    img_w, img_h, z = img.shape\n",
    "  # img_w, img_h, img_z = img.shape\n",
    "\n",
    "  x0 = 0\n",
    "\n",
    "  map2 = {}\n",
    "\n",
    "  l = []\n",
    "\n",
    "  for x1 in x[arg_r_max[0]]:\n",
    "\n",
    "    # if x1 < 77:\n",
    "    # red_line_img = cv2.line(img, (x1,0), (x1,h), (0,0,255), 3)\n",
    "\n",
    "    d = x1 - x0\n",
    "    if d not in map2:\n",
    "      map2[d] = 0\n",
    "\n",
    "    # map2[w] += 1\n",
    "\n",
    "    x0 = x1\n",
    "\n",
    "    l.append(d)\n",
    "\n",
    "\n",
    "  # cv2.imwrite(output_path, red_line_img)\n",
    "  # display_jpeg(Image(output_path))\n",
    "\n",
    "  # print(map2)\n",
    "\n",
    "  \n",
    "  median = int(statistics.median(l) * 10) # 中央値\n",
    "  # print(\"median\", median)\n",
    "  median = int(statistics.mode(l) * 10) # 最頻値\n",
    "  # print(\"mode\", median)\n",
    "  # median = int(statistics.mode(l) * 1)\n",
    "\n",
    "  # print(median)\n",
    "\n",
    "  flg = True\n",
    "\n",
    "  x_s = 0\n",
    "\n",
    "  while flg:\n",
    "    if horizontal:\n",
    "      red_line_img = cv2.line(img, (x_s,0), (x_s,img_h), (255,0,0), 3)\n",
    "    else:\n",
    "      red_line_img = cv2.line(img, (0, x_s), (img_w, x_s), (255,0,0), 3)\n",
    "\n",
    "    x_s += median\n",
    "\n",
    "    if x_s > img_w:\n",
    "      flg = False\n",
    "\n",
    "  output_path = \"output.jpg\"\n",
    "  cv2.imwrite(output_path, red_line_img)\n",
    "\n",
    "  if show:\n",
    "    from IPython.display import Image,display_jpeg\n",
    "    display_jpeg(Image(output_path))\n",
    "\n",
    "  return {\n",
    "      \"width\" : img_w if horizontal else img_h,\n",
    "      \"height\" : img_h if horizontal else img_w,\n",
    "      \"pixelPerMM\" : int(median / 10)\n",
    "  }\n",
    "\n",
    "value = output(arg_r_max, horizontal, True)\n",
    "print(value)"
   ]
  },
  {
   "cell_type": "code",
   "execution_count": 25,
   "id": "20311176",
   "metadata": {},
   "outputs": [
    {
     "ename": "NameError",
     "evalue": "name 'input_image_w' is not defined",
     "output_type": "error",
     "traceback": [
      "\u001b[0;31m---------------------------------------------------------------------------\u001b[0m",
      "\u001b[0;31mNameError\u001b[0m                                 Traceback (most recent call last)",
      "\u001b[0;32m<ipython-input-25-528f7180c86c>\u001b[0m in \u001b[0;36m<module>\u001b[0;34m\u001b[0m\n\u001b[1;32m     27\u001b[0m   \u001b[0mprint\u001b[0m\u001b[0;34m(\u001b[0m\u001b[0;34m\"（追加）フル画像の実サイズ: {} mm x {} mm\"\u001b[0m\u001b[0;34m.\u001b[0m\u001b[0mformat\u001b[0m\u001b[0;34m(\u001b[0m\u001b[0mint\u001b[0m\u001b[0;34m(\u001b[0m\u001b[0mfull_width\u001b[0m\u001b[0;34m)\u001b[0m\u001b[0;34m,\u001b[0m \u001b[0mint\u001b[0m\u001b[0;34m(\u001b[0m\u001b[0mfull_height\u001b[0m\u001b[0;34m)\u001b[0m\u001b[0;34m)\u001b[0m\u001b[0;34m)\u001b[0m\u001b[0;34m\u001b[0m\u001b[0;34m\u001b[0m\u001b[0m\n\u001b[1;32m     28\u001b[0m \u001b[0;34m\u001b[0m\u001b[0m\n\u001b[0;32m---> 29\u001b[0;31m \u001b[0mresize\u001b[0m\u001b[0;34m(\u001b[0m\u001b[0murl\u001b[0m\u001b[0;34m)\u001b[0m\u001b[0;34m\u001b[0m\u001b[0;34m\u001b[0m\u001b[0m\n\u001b[0m",
      "\u001b[0;32m<ipython-input-25-528f7180c86c>\u001b[0m in \u001b[0;36mresize\u001b[0;34m(url)\u001b[0m\n\u001b[1;32m     22\u001b[0m   \u001b[0;31m###\u001b[0m\u001b[0;34m\u001b[0m\u001b[0;34m\u001b[0m\u001b[0;34m\u001b[0m\u001b[0m\n\u001b[1;32m     23\u001b[0m \u001b[0;34m\u001b[0m\u001b[0m\n\u001b[0;32m---> 24\u001b[0;31m   \u001b[0mfull_width\u001b[0m \u001b[0;34m=\u001b[0m  \u001b[0minput_image_w\u001b[0m \u001b[0;34m*\u001b[0m \u001b[0;34m(\u001b[0m\u001b[0mfull_image_width\u001b[0m \u001b[0;34m/\u001b[0m \u001b[0minput_image_width\u001b[0m\u001b[0;34m)\u001b[0m\u001b[0;34m\u001b[0m\u001b[0;34m\u001b[0m\u001b[0m\n\u001b[0m\u001b[1;32m     25\u001b[0m   \u001b[0mfull_height\u001b[0m \u001b[0;34m=\u001b[0m  \u001b[0minput_image_h\u001b[0m \u001b[0;34m*\u001b[0m \u001b[0;34m(\u001b[0m\u001b[0mfull_image_height\u001b[0m \u001b[0;34m/\u001b[0m \u001b[0minput_image_height\u001b[0m\u001b[0;34m)\u001b[0m\u001b[0;34m\u001b[0m\u001b[0;34m\u001b[0m\u001b[0m\n\u001b[1;32m     26\u001b[0m \u001b[0;34m\u001b[0m\u001b[0m\n",
      "\u001b[0;31mNameError\u001b[0m: name 'input_image_w' is not defined"
     ]
    }
   ],
   "source": [
    "def resize(url):\n",
    "  # image_api = \"https://rmda.kulib.kyoto-u.ac.jp/iiif/RB00020027/RB00020027_00001_0.ptif/info.json\"\n",
    "\n",
    "  spl = url.split(\"/\")\n",
    "\n",
    "  ###\n",
    "\n",
    "  ln = spl[-4] + \"/\" + spl[-3] + \"/\" + spl[-2] + \"/\" + spl[-1]\n",
    "  api = url.replace(ln, \"info.json\")\n",
    "\n",
    "  df = requests.get(api).json()\n",
    "  full_image_width = df[\"width\"]\n",
    "  full_image_height = df[\"height\"]\n",
    "\n",
    "  ###\n",
    "\n",
    "  xywh = spl[-4].split(\",\")\n",
    "\n",
    "  input_image_width = int(xywh[2])\n",
    "  input_image_height = int(xywh[3])\n",
    "\n",
    "  ###\n",
    "\n",
    "  full_width =  input_image_w * (full_image_width / input_image_width)\n",
    "  full_height =  input_image_h * (full_image_height / input_image_height)\n",
    "\n",
    "  print(\"（追加）フル画像の実サイズ: {} mm x {} mm\".format(int(full_width), int(full_height)))\n",
    "\n",
    "resize(url)"
   ]
  },
  {
   "cell_type": "code",
   "execution_count": null,
   "id": "9cdb379c",
   "metadata": {},
   "outputs": [],
   "source": []
  }
 ],
 "metadata": {
  "kernelspec": {
   "display_name": "Python 3",
   "language": "python",
   "name": "python3"
  },
  "language_info": {
   "codemirror_mode": {
    "name": "ipython",
    "version": 3
   },
   "file_extension": ".py",
   "mimetype": "text/x-python",
   "name": "python",
   "nbconvert_exporter": "python",
   "pygments_lexer": "ipython3",
   "version": "3.8.8"
  }
 },
 "nbformat": 4,
 "nbformat_minor": 5
}
